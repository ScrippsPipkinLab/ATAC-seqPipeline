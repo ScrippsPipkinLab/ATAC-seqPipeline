{
 "cells": [
  {
   "cell_type": "markdown",
   "metadata": {},
   "source": [
    "# ATAC-seq Pipeline\n",
    "## Quick-Start Guide\n",
    "This is a quick start guide to ATAC-seq pipeline. The pipeline is structures as a python library that can be imported with: "
   ]
  },
  {
   "cell_type": "code",
   "execution_count": 160,
   "metadata": {},
   "outputs": [
    {
     "data": {
      "text/plain": [
       "<module 'ATACseqPipeline' from '/gpfs/group/home/snagaraja/ATACseqPipeline/core/ATACseqPipeline.py'>"
      ]
     },
     "execution_count": 160,
     "metadata": {},
     "output_type": "execute_result"
    }
   ],
   "source": [
    "import ATACseqPipeline\n",
    "import importlib\n",
    "importlib.reload(ATACseqPipeline)"
   ]
  },
  {
   "cell_type": "code",
   "execution_count": 161,
   "metadata": {},
   "outputs": [
    {
     "name": "stdout",
     "output_type": "stream",
     "text": [
      "hi\n"
     ]
    }
   ],
   "source": [
    "print(\"hi\")"
   ]
  },
  {
   "cell_type": "markdown",
   "metadata": {},
   "source": [
    "The Pipeline object allows the user to set up an instance of the custom pipeline. It can be configured using a sample sheet as shown below. Note that setting dry_run=True at the time of pipeline creation will result in shell scripts to be created, but not submitted through SLURM. "
   ]
  },
  {
   "cell_type": "code",
   "execution_count": 162,
   "metadata": {},
   "outputs": [
    {
     "name": "stdout",
     "output_type": "stream",
     "text": [
      "/gpfs/group/home/snagaraja/ATACseqPipeline/core\n"
     ]
    }
   ],
   "source": [
    "myexp = ATACseqPipeline.Pipeline(data_path='/gpfs/home/snagaraja/ATACseqPipeline/data', dry_run=False, app_path='/gpfs/home/snagaraja/ATACseqPipeline/core')\n",
    "myexp.from_ssheet(ssheet_path='/gpfs/home/snagaraja/ATACseqPipeline/data/exp122_ssheet.txt')"
   ]
  },
  {
   "cell_type": "markdown",
   "metadata": {},
   "source": [
    "The sample sheet must be configured as a tab-delimeted file. Must contain the following columns: SampleName (replicates of the same sample should still have unique names. rule of thumb: give a unique name for every single fastq R1R2 pair here.), Read1 (Path to read 1 of FASTQ file), Read2 (Path to read 2 of FASTQ file), Status (sample name. Replicates must have the same status), C/T (is this sample a control or treatment)."
   ]
  },
  {
   "cell_type": "code",
   "execution_count": 163,
   "metadata": {},
   "outputs": [
    {
     "name": "stdout",
     "output_type": "stream",
     "text": [
      "   SampleName                                              Read1  \\\n",
      "0     shCD4_1  /gpfs/home/snagaraja/ATACseqPipeline/data/Exp1...   \n",
      "1     shCD4_2  /gpfs/home/snagaraja/ATACseqPipeline/data/Exp1...   \n",
      "2      shCD19  /gpfs/home/snagaraja/ATACseqPipeline/data/Exp1...   \n",
      "3  shChd7.1_1  /gpfs/home/snagaraja/ATACseqPipeline/data/Exp1...   \n",
      "4  shChd7.1_2  /gpfs/home/snagaraja/ATACseqPipeline/data/Exp1...   \n",
      "5  shChd7.2_1  /gpfs/home/snagaraja/ATACseqPipeline/data/Exp1...   \n",
      "6  shChd7.2_2  /gpfs/home/snagaraja/ATACseqPipeline/data/Exp1...   \n",
      "7  shChd7.3_1  /gpfs/home/snagaraja/ATACseqPipeline/data/Exp1...   \n",
      "8  shChd7.3_2  /gpfs/home/snagaraja/ATACseqPipeline/data/Exp1...   \n",
      "\n",
      "                                               Read2    Status C/T  \n",
      "0  /gpfs/home/snagaraja/ATACseqPipeline/data/Exp1...     shCD4   C  \n",
      "1  /gpfs/home/snagaraja/ATACseqPipeline/data/Exp1...     shCD4   C  \n",
      "2  /gpfs/home/snagaraja/ATACseqPipeline/data/Exp1...    shCD19   C  \n",
      "3  /gpfs/home/snagaraja/ATACseqPipeline/data/Exp1...  shChd7.1   T  \n",
      "4  /gpfs/home/snagaraja/ATACseqPipeline/data/Exp1...  shChd7.1   T  \n",
      "5  /gpfs/home/snagaraja/ATACseqPipeline/data/Exp1...  shChd7.2   T  \n",
      "6  /gpfs/home/snagaraja/ATACseqPipeline/data/Exp1...  shChd7.2   T  \n",
      "7  /gpfs/home/snagaraja/ATACseqPipeline/data/Exp1...  shChd7.3   T  \n",
      "8  /gpfs/home/snagaraja/ATACseqPipeline/data/Exp1...  shChd7.3   T  \n"
     ]
    }
   ],
   "source": [
    "import pandas as pd \n",
    "sampsheet = pd.read_csv('/gpfs/home/snagaraja/ATACseqPipeline/data/exp122_ssheet.txt', sep='\\t')\n",
    "print(sampsheet)"
   ]
  },
  {
   "cell_type": "markdown",
   "metadata": {},
   "source": [
    "Now uncomment each of these lines of code and hit play to run them. You should be able to monitor your jobs by using `squeue -u username`. As of right now, you need to run a step, and only run the next step once the previous one is complete. Future versions will run all job automagically. "
   ]
  },
  {
   "cell_type": "code",
   "execution_count": null,
   "metadata": {},
   "outputs": [],
   "source": [
    "myexp.configure_envs()"
   ]
  },
  {
   "cell_type": "code",
   "execution_count": 164,
   "metadata": {},
   "outputs": [],
   "source": [
    "# myexp.align_fastqs(genome_path='/gpfs/group/pipkin/tvenable/MusRef/MouseRefseq39_bowtie')"
   ]
  },
  {
   "cell_type": "code",
   "execution_count": 165,
   "metadata": {},
   "outputs": [],
   "source": [
    "# myexp.remove_mito()"
   ]
  },
  {
   "cell_type": "code",
   "execution_count": 166,
   "metadata": {},
   "outputs": [],
   "source": [
    "# myexp.remove_duplicates()"
   ]
  },
  {
   "cell_type": "code",
   "execution_count": 167,
   "metadata": {},
   "outputs": [],
   "source": [
    "# myexp.call_peaks()"
   ]
  },
  {
   "cell_type": "code",
   "execution_count": 168,
   "metadata": {},
   "outputs": [],
   "source": [
    "# myexp.get_stats()"
   ]
  },
  {
   "cell_type": "code",
   "execution_count": 169,
   "metadata": {},
   "outputs": [],
   "source": [
    "# myexp.filter_blacklist('/gpfs/home/snagaraja/ATACseqPipeline/refs/blacklist.bed')"
   ]
  },
  {
   "cell_type": "code",
   "execution_count": 170,
   "metadata": {},
   "outputs": [],
   "source": [
    "# myexp.get_insert_sizes()"
   ]
  },
  {
   "cell_type": "code",
   "execution_count": 171,
   "metadata": {},
   "outputs": [],
   "source": [
    "# myexp.plot_insert_sizes()"
   ]
  },
  {
   "cell_type": "code",
   "execution_count": 172,
   "metadata": {},
   "outputs": [],
   "source": [
    "# myexp.merge_peaks()"
   ]
  },
  {
   "cell_type": "code",
   "execution_count": 145,
   "metadata": {},
   "outputs": [],
   "source": [
    "# myexp.peak_counts()"
   ]
  },
  {
   "cell_type": "code",
   "execution_count": 146,
   "metadata": {},
   "outputs": [],
   "source": [
    "# myexp.optimize_q_value_macs()"
   ]
  }
 ],
 "metadata": {
  "interpreter": {
   "hash": "120a4dfaa21da1d76983badcca089879527611048dfb8abab40f8736c2d23c2f"
  },
  "kernelspec": {
   "display_name": "Python 3.7.12 ('ATACseq_env': conda)",
   "language": "python",
   "name": "python3"
  },
  "language_info": {
   "codemirror_mode": {
    "name": "ipython",
    "version": 3
   },
   "file_extension": ".py",
   "mimetype": "text/x-python",
   "name": "python",
   "nbconvert_exporter": "python",
   "pygments_lexer": "ipython3",
   "version": "3.7.12"
  },
  "orig_nbformat": 4
 },
 "nbformat": 4,
 "nbformat_minor": 2
}
