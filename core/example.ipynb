{
 "cells": [
  {
   "cell_type": "markdown",
   "metadata": {},
   "source": [
    "# ATAC-seq Pipeline\n",
    "## Quick-Start Guide\n",
    "This is a quick start guide to ATAC-seq pipeline. The pipeline is structures as a python library that can be imported with: "
   ]
  },
  {
   "cell_type": "code",
   "execution_count": 130,
   "metadata": {},
   "outputs": [
    {
     "data": {
      "text/plain": [
       "<module 'ATACseqPipeline' from '/gpfs/group/home/snagaraja/ATACseqPipeline/core/ATACseqPipeline.py'>"
      ]
     },
     "execution_count": 130,
     "metadata": {},
     "output_type": "execute_result"
    }
   ],
   "source": [
    "import ATACseqPipeline\n",
    "import importlib\n",
    "importlib.reload(ATACseqPipeline)"
   ]
  },
  {
   "cell_type": "code",
   "execution_count": 131,
   "metadata": {},
   "outputs": [
    {
     "name": "stdout",
     "output_type": "stream",
     "text": [
      "hi\n"
     ]
    }
   ],
   "source": [
    "print(\"hi\")"
   ]
  },
  {
   "cell_type": "markdown",
   "metadata": {},
   "source": [
    "The sample sheet must be configured as a tab-delimeted file. Must contain the following columns: SampleName (replicates of the same sample should still have unique names. rule of thumb: give a unique name for every single fastq R1R2 pair here.), Read1 (Path to read 1 of FASTQ file), Read2 (Path to read 2 of FASTQ file), Status (sample name. Replicates must have the same status), C/T (is this sample a control or treatment)."
   ]
  },
  {
   "cell_type": "markdown",
   "metadata": {},
   "source": [
    "The Pipeline object allows the user to set up an instance of the custom pipeline. It can be configured using a sample sheet as shown below. Note that setting dry_run=True at the time of pipeline creation will result in shell scripts to be created, but not submitted through SLURM. "
   ]
  },
  {
   "cell_type": "code",
   "execution_count": 132,
   "metadata": {},
   "outputs": [
    {
     "name": "stdout",
     "output_type": "stream",
     "text": [
      "/gpfs/group/home/snagaraja/ATACseqPipeline/core\n",
      "/gpfs/home/snagaraja/Exp122_Chd7/submissions\n"
     ]
    }
   ],
   "source": [
    "myexp = ATACseqPipeline.Pipeline(data_path='/gpfs/home/snagaraja/Exp122_Chd7', dry_run=True, app_path='/gpfs/home/snagaraja/ATACseqPipeline/core')\n",
    "myexp.from_ssheet(ssheet_path='/gpfs/home/snagaraja/ATACseqPipeline/data/exp122_ssheet.txt')"
   ]
  },
  {
   "cell_type": "code",
   "execution_count": 133,
   "metadata": {},
   "outputs": [
    {
     "name": "stdout",
     "output_type": "stream",
     "text": [
      "   SampleName                                              Read1  \\\n",
      "0     shCD4_1  /gpfs/home/snagaraja/ATACseqPipeline/data/Exp1...   \n",
      "1     shCD4_2  /gpfs/home/snagaraja/ATACseqPipeline/data/Exp1...   \n",
      "2      shCD19  /gpfs/home/snagaraja/ATACseqPipeline/data/Exp1...   \n",
      "3  shChd7.1_1  /gpfs/home/snagaraja/ATACseqPipeline/data/Exp1...   \n",
      "4  shChd7.1_2  /gpfs/home/snagaraja/ATACseqPipeline/data/Exp1...   \n",
      "5  shChd7.2_1  /gpfs/home/snagaraja/ATACseqPipeline/data/Exp1...   \n",
      "6  shChd7.2_2  /gpfs/home/snagaraja/ATACseqPipeline/data/Exp1...   \n",
      "7  shChd7.3_1  /gpfs/home/snagaraja/ATACseqPipeline/data/Exp1...   \n",
      "8  shChd7.3_2  /gpfs/home/snagaraja/ATACseqPipeline/data/Exp1...   \n",
      "\n",
      "                                               Read2    Status CT Batch   \n",
      "0  /gpfs/home/snagaraja/ATACseqPipeline/data/Exp1...     shCD4  C    One  \n",
      "1  /gpfs/home/snagaraja/ATACseqPipeline/data/Exp1...     shCD4  C    Two  \n",
      "2  /gpfs/home/snagaraja/ATACseqPipeline/data/Exp1...    shCD19  C    One  \n",
      "3  /gpfs/home/snagaraja/ATACseqPipeline/data/Exp1...  shChd7.1  T    One  \n",
      "4  /gpfs/home/snagaraja/ATACseqPipeline/data/Exp1...  shChd7.1  T    Two  \n",
      "5  /gpfs/home/snagaraja/ATACseqPipeline/data/Exp1...  shChd7.2  T    One  \n",
      "6  /gpfs/home/snagaraja/ATACseqPipeline/data/Exp1...  shChd7.2  T    Two  \n",
      "7  /gpfs/home/snagaraja/ATACseqPipeline/data/Exp1...  shChd7.3  T    One  \n",
      "8  /gpfs/home/snagaraja/ATACseqPipeline/data/Exp1...  shChd7.3  T    Two  \n"
     ]
    }
   ],
   "source": [
    "import pandas as pd \n",
    "sampsheet = pd.read_csv('/gpfs/home/snagaraja/ATACseqPipeline/data/exp122_ssheet.txt', sep='\\t')\n",
    "print(sampsheet)"
   ]
  },
  {
   "cell_type": "markdown",
   "metadata": {},
   "source": [
    "Now uncomment each of these lines of code and hit play to run them. You should be able to monitor your jobs by using `squeue -u username`. As of right now, you need to run a step, and only run the next step once the previous one is complete. Future versions will run all job automagically. "
   ]
  },
  {
   "cell_type": "code",
   "execution_count": 134,
   "metadata": {},
   "outputs": [],
   "source": [
    "# myexp.configure_envs()"
   ]
  },
  {
   "cell_type": "code",
   "execution_count": 135,
   "metadata": {},
   "outputs": [
    {
     "name": "stdout",
     "output_type": "stream",
     "text": [
      "/gpfs/home/snagaraja/Exp122_Chd7/bams/\n",
      "created /gpfs/home/snagaraja/Exp122_Chd7/submissions/align_fastqs_shCD4_1.sh\n",
      "created /gpfs/home/snagaraja/Exp122_Chd7/submissions/align_fastqs_shCD4_2.sh\n",
      "created /gpfs/home/snagaraja/Exp122_Chd7/submissions/align_fastqs_shCD19.sh\n",
      "created /gpfs/home/snagaraja/Exp122_Chd7/submissions/align_fastqs_shChd7.1_1.sh\n",
      "created /gpfs/home/snagaraja/Exp122_Chd7/submissions/align_fastqs_shChd7.1_2.sh\n",
      "created /gpfs/home/snagaraja/Exp122_Chd7/submissions/align_fastqs_shChd7.2_1.sh\n",
      "created /gpfs/home/snagaraja/Exp122_Chd7/submissions/align_fastqs_shChd7.2_2.sh\n",
      "created /gpfs/home/snagaraja/Exp122_Chd7/submissions/align_fastqs_shChd7.3_1.sh\n",
      "created /gpfs/home/snagaraja/Exp122_Chd7/submissions/align_fastqs_shChd7.3_2.sh\n"
     ]
    }
   ],
   "source": [
    "myexp.align_fastqs(genome_path='/gpfs/group/pipkin/tvenable/MusRef/MouseRefseq39_bowtie')"
   ]
  },
  {
   "cell_type": "code",
   "execution_count": 136,
   "metadata": {},
   "outputs": [
    {
     "name": "stdout",
     "output_type": "stream",
     "text": [
      "/gpfs/home/snagaraja/Exp122_Chd7/bams_noDups_noMito/\n",
      "created /gpfs/home/snagaraja/Exp122_Chd7/submissions/remove_mito_shCD4_1.sh\n",
      "created /gpfs/home/snagaraja/Exp122_Chd7/submissions/remove_mito_shCD4_2.sh\n",
      "created /gpfs/home/snagaraja/Exp122_Chd7/submissions/remove_mito_shCD19.sh\n",
      "created /gpfs/home/snagaraja/Exp122_Chd7/submissions/remove_mito_shChd7.1_1.sh\n",
      "created /gpfs/home/snagaraja/Exp122_Chd7/submissions/remove_mito_shChd7.1_2.sh\n",
      "created /gpfs/home/snagaraja/Exp122_Chd7/submissions/remove_mito_shChd7.2_1.sh\n",
      "created /gpfs/home/snagaraja/Exp122_Chd7/submissions/remove_mito_shChd7.2_2.sh\n",
      "created /gpfs/home/snagaraja/Exp122_Chd7/submissions/remove_mito_shChd7.3_1.sh\n",
      "created /gpfs/home/snagaraja/Exp122_Chd7/submissions/remove_mito_shChd7.3_2.sh\n"
     ]
    }
   ],
   "source": [
    "myexp.remove_mito()"
   ]
  },
  {
   "cell_type": "code",
   "execution_count": 137,
   "metadata": {},
   "outputs": [
    {
     "name": "stdout",
     "output_type": "stream",
     "text": [
      "created /gpfs/home/snagaraja/Exp122_Chd7/submissions/remove_duplicates_shCD4_1.sh\n",
      "created /gpfs/home/snagaraja/Exp122_Chd7/submissions/remove_duplicates_shCD4_2.sh\n",
      "created /gpfs/home/snagaraja/Exp122_Chd7/submissions/remove_duplicates_shCD19.sh\n",
      "created /gpfs/home/snagaraja/Exp122_Chd7/submissions/remove_duplicates_shChd7.1_1.sh\n",
      "created /gpfs/home/snagaraja/Exp122_Chd7/submissions/remove_duplicates_shChd7.1_2.sh\n",
      "created /gpfs/home/snagaraja/Exp122_Chd7/submissions/remove_duplicates_shChd7.2_1.sh\n",
      "created /gpfs/home/snagaraja/Exp122_Chd7/submissions/remove_duplicates_shChd7.2_2.sh\n",
      "created /gpfs/home/snagaraja/Exp122_Chd7/submissions/remove_duplicates_shChd7.3_1.sh\n",
      "created /gpfs/home/snagaraja/Exp122_Chd7/submissions/remove_duplicates_shChd7.3_2.sh\n"
     ]
    }
   ],
   "source": [
    "myexp.remove_duplicates()"
   ]
  },
  {
   "cell_type": "code",
   "execution_count": 138,
   "metadata": {},
   "outputs": [
    {
     "name": "stdout",
     "output_type": "stream",
     "text": [
      "created /gpfs/home/snagaraja/Exp122_Chd7/submissions/call_peaks_macs2_shCD4_1.sh\n",
      "created /gpfs/home/snagaraja/Exp122_Chd7/submissions/call_peaks_macs2_shCD4_2.sh\n",
      "created /gpfs/home/snagaraja/Exp122_Chd7/submissions/call_peaks_macs2_shCD19.sh\n",
      "created /gpfs/home/snagaraja/Exp122_Chd7/submissions/call_peaks_macs2_shChd7.1_1.sh\n",
      "created /gpfs/home/snagaraja/Exp122_Chd7/submissions/call_peaks_macs2_shChd7.1_2.sh\n",
      "created /gpfs/home/snagaraja/Exp122_Chd7/submissions/call_peaks_macs2_shChd7.2_1.sh\n",
      "created /gpfs/home/snagaraja/Exp122_Chd7/submissions/call_peaks_macs2_shChd7.2_2.sh\n",
      "created /gpfs/home/snagaraja/Exp122_Chd7/submissions/call_peaks_macs2_shChd7.3_1.sh\n",
      "created /gpfs/home/snagaraja/Exp122_Chd7/submissions/call_peaks_macs2_shChd7.3_2.sh\n"
     ]
    }
   ],
   "source": [
    "myexp.call_peaks_macs2()"
   ]
  },
  {
   "cell_type": "code",
   "execution_count": 139,
   "metadata": {},
   "outputs": [
    {
     "name": "stdout",
     "output_type": "stream",
     "text": [
      "created /gpfs/home/snagaraja/Exp122_Chd7/submissions/filter_blacklist_shCD4_1.sh\n",
      "created /gpfs/home/snagaraja/Exp122_Chd7/submissions/filter_blacklist_shCD4_2.sh\n",
      "created /gpfs/home/snagaraja/Exp122_Chd7/submissions/filter_blacklist_shCD19.sh\n",
      "created /gpfs/home/snagaraja/Exp122_Chd7/submissions/filter_blacklist_shChd7.1_1.sh\n",
      "created /gpfs/home/snagaraja/Exp122_Chd7/submissions/filter_blacklist_shChd7.1_2.sh\n",
      "created /gpfs/home/snagaraja/Exp122_Chd7/submissions/filter_blacklist_shChd7.2_1.sh\n",
      "created /gpfs/home/snagaraja/Exp122_Chd7/submissions/filter_blacklist_shChd7.2_2.sh\n",
      "created /gpfs/home/snagaraja/Exp122_Chd7/submissions/filter_blacklist_shChd7.3_1.sh\n",
      "created /gpfs/home/snagaraja/Exp122_Chd7/submissions/filter_blacklist_shChd7.3_2.sh\n"
     ]
    }
   ],
   "source": [
    "myexp.filter_blacklist('/gpfs/home/snagaraja/ATACseqPipeline/refs/blacklist.bed')"
   ]
  },
  {
   "cell_type": "code",
   "execution_count": 140,
   "metadata": {},
   "outputs": [
    {
     "name": "stdout",
     "output_type": "stream",
     "text": [
      "created /gpfs/home/snagaraja/Exp122_Chd7/submissions/get_insert_sizes_shCD4_1.sh\n",
      "created /gpfs/home/snagaraja/Exp122_Chd7/submissions/get_insert_sizes_shCD4_2.sh\n",
      "created /gpfs/home/snagaraja/Exp122_Chd7/submissions/get_insert_sizes_shCD19.sh\n",
      "created /gpfs/home/snagaraja/Exp122_Chd7/submissions/get_insert_sizes_shChd7.1_1.sh\n",
      "created /gpfs/home/snagaraja/Exp122_Chd7/submissions/get_insert_sizes_shChd7.1_2.sh\n",
      "created /gpfs/home/snagaraja/Exp122_Chd7/submissions/get_insert_sizes_shChd7.2_1.sh\n",
      "created /gpfs/home/snagaraja/Exp122_Chd7/submissions/get_insert_sizes_shChd7.2_2.sh\n",
      "created /gpfs/home/snagaraja/Exp122_Chd7/submissions/get_insert_sizes_shChd7.3_1.sh\n",
      "created /gpfs/home/snagaraja/Exp122_Chd7/submissions/get_insert_sizes_shChd7.3_2.sh\n"
     ]
    }
   ],
   "source": [
    "myexp.get_insert_sizes()"
   ]
  },
  {
   "cell_type": "code",
   "execution_count": 141,
   "metadata": {},
   "outputs": [
    {
     "name": "stdout",
     "output_type": "stream",
     "text": [
      "created /gpfs/home/snagaraja/Exp122_Chd7/submissions/plot_insert_sizes.sh\n"
     ]
    }
   ],
   "source": [
    "myexp.plot_insert_sizes()"
   ]
  },
  {
   "cell_type": "code",
   "execution_count": 142,
   "metadata": {},
   "outputs": [
    {
     "name": "stdout",
     "output_type": "stream",
     "text": [
      "created /gpfs/home/snagaraja/Exp122_Chd7/submissions/merge_peaks.sh\n"
     ]
    }
   ],
   "source": [
    "myexp.merge_peaks()"
   ]
  },
  {
   "cell_type": "code",
   "execution_count": 143,
   "metadata": {},
   "outputs": [
    {
     "name": "stdout",
     "output_type": "stream",
     "text": [
      "created /gpfs/home/snagaraja/Exp122_Chd7/submissions/peak_counts.sh\n"
     ]
    }
   ],
   "source": [
    "myexp.peak_counts()"
   ]
  },
  {
   "cell_type": "code",
   "execution_count": 144,
   "metadata": {},
   "outputs": [
    {
     "name": "stdout",
     "output_type": "stream",
     "text": [
      "created /gpfs/home/snagaraja/Exp122_Chd7/submissions/fastqc_shCD4_1.sh\n",
      "created /gpfs/home/snagaraja/Exp122_Chd7/submissions/fastqc_shCD4_2.sh\n",
      "created /gpfs/home/snagaraja/Exp122_Chd7/submissions/fastqc_shCD19.sh\n",
      "created /gpfs/home/snagaraja/Exp122_Chd7/submissions/fastqc_shChd7.1_1.sh\n",
      "created /gpfs/home/snagaraja/Exp122_Chd7/submissions/fastqc_shChd7.1_2.sh\n",
      "created /gpfs/home/snagaraja/Exp122_Chd7/submissions/fastqc_shChd7.2_1.sh\n",
      "created /gpfs/home/snagaraja/Exp122_Chd7/submissions/fastqc_shChd7.2_2.sh\n",
      "created /gpfs/home/snagaraja/Exp122_Chd7/submissions/fastqc_shChd7.3_1.sh\n",
      "created /gpfs/home/snagaraja/Exp122_Chd7/submissions/fastqc_shChd7.3_2.sh\n"
     ]
    }
   ],
   "source": [
    "myexp.fastqc()"
   ]
  },
  {
   "cell_type": "code",
   "execution_count": 145,
   "metadata": {},
   "outputs": [
    {
     "name": "stdout",
     "output_type": "stream",
     "text": [
      "created /gpfs/home/snagaraja/Exp122_Chd7/submissions/multiqc.sh\n"
     ]
    }
   ],
   "source": [
    "myexp.multiqc_report()"
   ]
  },
  {
   "cell_type": "code",
   "execution_count": 146,
   "metadata": {},
   "outputs": [
    {
     "name": "stdout",
     "output_type": "stream",
     "text": [
      "created /gpfs/home/snagaraja/Exp122_Chd7/submissions/bam_to_bed_shCD4_1.sh\n",
      "created /gpfs/home/snagaraja/Exp122_Chd7/submissions/bam_to_bed_shCD4_2.sh\n",
      "created /gpfs/home/snagaraja/Exp122_Chd7/submissions/bam_to_bed_shCD19.sh\n",
      "created /gpfs/home/snagaraja/Exp122_Chd7/submissions/bam_to_bed_shChd7.1_1.sh\n",
      "created /gpfs/home/snagaraja/Exp122_Chd7/submissions/bam_to_bed_shChd7.1_2.sh\n",
      "created /gpfs/home/snagaraja/Exp122_Chd7/submissions/bam_to_bed_shChd7.2_1.sh\n",
      "created /gpfs/home/snagaraja/Exp122_Chd7/submissions/bam_to_bed_shChd7.2_2.sh\n",
      "created /gpfs/home/snagaraja/Exp122_Chd7/submissions/bam_to_bed_shChd7.3_1.sh\n",
      "created /gpfs/home/snagaraja/Exp122_Chd7/submissions/bam_to_bed_shChd7.3_2.sh\n"
     ]
    }
   ],
   "source": [
    "myexp.bam_to_bed()"
   ]
  },
  {
   "cell_type": "code",
   "execution_count": 147,
   "metadata": {},
   "outputs": [
    {
     "name": "stdout",
     "output_type": "stream",
     "text": [
      "created /gpfs/home/snagaraja/Exp122_Chd7/submissions/merge_peaks.sh\n"
     ]
    }
   ],
   "source": [
    "myexp.merge_peaks()"
   ]
  },
  {
   "cell_type": "code",
   "execution_count": 148,
   "metadata": {},
   "outputs": [
    {
     "name": "stdout",
     "output_type": "stream",
     "text": [
      "created /gpfs/home/snagaraja/Exp122_Chd7/submissions/peak_counts.sh\n"
     ]
    }
   ],
   "source": [
    "myexp.peak_counts()"
   ]
  },
  {
   "cell_type": "code",
   "execution_count": 149,
   "metadata": {},
   "outputs": [
    {
     "name": "stdout",
     "output_type": "stream",
     "text": [
      "created /gpfs/home/snagaraja/Exp122_Chd7/submissions/bed_to_gtf.sh\n"
     ]
    }
   ],
   "source": [
    "myexp.bed_to_gtf()"
   ]
  },
  {
   "cell_type": "code",
   "execution_count": 150,
   "metadata": {},
   "outputs": [
    {
     "name": "stdout",
     "output_type": "stream",
     "text": [
      "created /gpfs/home/snagaraja/Exp122_Chd7/submissions/peak_counts.sh\n"
     ]
    }
   ],
   "source": [
    "myexp.peak_counts()"
   ]
  },
  {
   "cell_type": "code",
   "execution_count": 151,
   "metadata": {},
   "outputs": [
    {
     "name": "stdout",
     "output_type": "stream",
     "text": [
      "created /gpfs/home/snagaraja/Exp122_Chd7/submissions/shift_peaks_shCD4_1.sh\n",
      "created /gpfs/home/snagaraja/Exp122_Chd7/submissions/shift_peaks_shCD4_2.sh\n",
      "created /gpfs/home/snagaraja/Exp122_Chd7/submissions/shift_peaks_shCD19.sh\n",
      "created /gpfs/home/snagaraja/Exp122_Chd7/submissions/shift_peaks_shChd7.1_1.sh\n",
      "created /gpfs/home/snagaraja/Exp122_Chd7/submissions/shift_peaks_shChd7.1_2.sh\n",
      "created /gpfs/home/snagaraja/Exp122_Chd7/submissions/shift_peaks_shChd7.2_1.sh\n",
      "created /gpfs/home/snagaraja/Exp122_Chd7/submissions/shift_peaks_shChd7.2_2.sh\n",
      "created /gpfs/home/snagaraja/Exp122_Chd7/submissions/shift_peaks_shChd7.3_1.sh\n",
      "created /gpfs/home/snagaraja/Exp122_Chd7/submissions/shift_peaks_shChd7.3_2.sh\n"
     ]
    }
   ],
   "source": [
    "myexp.shift_peaks('/gpfs/home/snagaraja/ATACseqPipeline/core/GCF_000001635.27_GRCm39_genomic.size')"
   ]
  },
  {
   "cell_type": "code",
   "execution_count": 152,
   "metadata": {},
   "outputs": [
    {
     "name": "stdout",
     "output_type": "stream",
     "text": [
      "created /gpfs/home/snagaraja/Exp122_Chd7/submissions/bam_to_bigWig_shCD4_1.sh\n",
      "created /gpfs/home/snagaraja/Exp122_Chd7/submissions/bam_to_bigWig_shCD4_2.sh\n",
      "created /gpfs/home/snagaraja/Exp122_Chd7/submissions/bam_to_bigWig_shCD19.sh\n",
      "created /gpfs/home/snagaraja/Exp122_Chd7/submissions/bam_to_bigWig_shChd7.1_1.sh\n",
      "created /gpfs/home/snagaraja/Exp122_Chd7/submissions/bam_to_bigWig_shChd7.1_2.sh\n",
      "created /gpfs/home/snagaraja/Exp122_Chd7/submissions/bam_to_bigWig_shChd7.2_1.sh\n",
      "created /gpfs/home/snagaraja/Exp122_Chd7/submissions/bam_to_bigWig_shChd7.2_2.sh\n",
      "created /gpfs/home/snagaraja/Exp122_Chd7/submissions/bam_to_bigWig_shChd7.3_1.sh\n",
      "created /gpfs/home/snagaraja/Exp122_Chd7/submissions/bam_to_bigWig_shChd7.3_2.sh\n"
     ]
    }
   ],
   "source": [
    "myexp.bam_to_bigWig()"
   ]
  },
  {
   "cell_type": "code",
   "execution_count": 153,
   "metadata": {},
   "outputs": [
    {
     "name": "stdout",
     "output_type": "stream",
     "text": [
      "done\n"
     ]
    }
   ],
   "source": [
    "print(\"done\")"
   ]
  },
  {
   "cell_type": "code",
   "execution_count": 154,
   "metadata": {},
   "outputs": [
    {
     "name": "stdout",
     "output_type": "stream",
     "text": [
      "Submitted batch job 25148337\n",
      "\n",
      "Submitted batch job 25148338\n",
      "\n",
      "Submitted batch job 25148339\n",
      "\n",
      "Submitted batch job 25148340\n",
      "\n",
      "Submitted batch job 25148341\n",
      "\n",
      "Submitted batch job 25148342\n",
      "\n",
      "Submitted batch job 25148343\n",
      "\n",
      "Submitted batch job 25148344\n",
      "\n",
      "Submitted batch job 25148345\n",
      "\n",
      "Submitted batch job 25148346\n",
      "\n",
      "Submitted batch job 25148347\n",
      "\n",
      "Submitted batch job 25148348\n",
      "\n",
      "Submitted batch job 25148349\n",
      "\n",
      "Submitted batch job 25148350\n",
      "\n",
      "Submitted batch job 25148351\n",
      "\n",
      "Submitted batch job 25148352\n",
      "\n",
      "Submitted batch job 25148353\n",
      "\n",
      "Submitted batch job 25148354\n",
      "\n",
      "Submitted batch job 25148355\n",
      "\n",
      "Submitted batch job 25148356\n",
      "\n",
      "Submitted batch job 25148357\n",
      "\n",
      "Submitted batch job 25148358\n",
      "\n",
      "Submitted batch job 25148359\n",
      "\n",
      "Submitted batch job 25148360\n",
      "\n",
      "Submitted batch job 25148361\n",
      "\n",
      "Submitted batch job 25148362\n",
      "\n",
      "Submitted batch job 25148363\n",
      "\n",
      "Submitted batch job 25148364\n",
      "\n",
      "Submitted batch job 25148365\n",
      "\n",
      "Submitted batch job 25148366\n",
      "\n",
      "Submitted batch job 25148367\n",
      "\n",
      "Submitted batch job 25148368\n",
      "\n",
      "Submitted batch job 25148369\n",
      "\n",
      "Submitted batch job 25148370\n",
      "\n",
      "Submitted batch job 25148371\n",
      "\n",
      "Submitted batch job 25148372\n",
      "\n",
      "Submitted batch job 25148373\n",
      "\n",
      "Submitted batch job 25148374\n",
      "\n",
      "Submitted batch job 25148375\n",
      "\n",
      "Submitted batch job 25148376\n",
      "\n",
      "Submitted batch job 25148377\n",
      "\n",
      "Submitted batch job 25148378\n",
      "\n",
      "Submitted batch job 25148379\n",
      "\n",
      "Submitted batch job 25148380\n",
      "\n",
      "Submitted batch job 25148381\n",
      "\n",
      "Submitted batch job 25148382\n",
      "\n",
      "Submitted batch job 25148383\n",
      "\n",
      "Submitted batch job 25148384\n",
      "\n",
      "Submitted batch job 25148385\n",
      "\n",
      "Submitted batch job 25148386\n",
      "\n",
      "Submitted batch job 25148387\n",
      "\n",
      "Submitted batch job 25148388\n",
      "\n",
      "Submitted batch job 25148389\n",
      "\n",
      "Submitted batch job 25148390\n",
      "\n",
      "Submitted batch job 25148391\n",
      "\n",
      "Submitted batch job 25148392\n",
      "\n",
      "Submitted batch job 25148393\n",
      "\n",
      "Submitted batch job 25148394\n",
      "\n",
      "Submitted batch job 25148395\n",
      "\n",
      "Submitted batch job 25148396\n",
      "\n",
      "Submitted batch job 25148397\n",
      "\n",
      "Submitted batch job 25148398\n",
      "\n",
      "Submitted batch job 25148399\n",
      "\n",
      "Submitted batch job 25148400\n",
      "\n",
      "Submitted batch job 25148401\n",
      "\n",
      "Submitted batch job 25148402\n",
      "\n",
      "Submitted batch job 25148403\n",
      "\n",
      "Submitted batch job 25148404\n",
      "\n",
      "Submitted batch job 25148405\n",
      "\n",
      "Submitted batch job 25148406\n",
      "\n",
      "Submitted batch job 25148407\n",
      "\n",
      "Submitted batch job 25148408\n",
      "\n",
      "Submitted batch job 25148409\n",
      "\n",
      "Submitted batch job 25148410\n",
      "\n",
      "Submitted batch job 25148411\n",
      "\n",
      "Submitted batch job 25148412\n",
      "\n",
      "{'align_fastqs': ['25148328', '25148329', '25148330', '25148331', '25148332', '25148333', '25148334', '25148335', '25148336'], 'remove_mito': ['25148337', '25148338', '25148339', '25148340', '25148341', '25148342', '25148343', '25148344', '25148345'], 'remove_duplicates': ['25148346', '25148347', '25148348', '25148349', '25148350', '25148351', '25148352', '25148353', '25148354'], 'bam_to_bed': ['25148355', '25148356', '25148357', '25148358', '25148359', '25148360', '25148361', '25148362', '25148363'], 'shift_peaks': ['25148364', '25148365', '25148366', '25148367', '25148368', '25148369', '25148370', '25148371', '25148372'], 'call_peaks_macs2': ['25148373', '25148374', '25148375', '25148376', '25148377', '25148378', '25148379', '25148380', '25148381'], 'filter_blacklist': ['25148382', '25148383', '25148384', '25148385', '25148386', '25148387', '25148388', '25148389', '25148390'], 'merge_peaks': ['25148391'], 'bed_to_gtf': ['25148392'], 'peak_counts': ['25148393'], 'bam_to_bigWig': ['25148394', '25148395', '25148396', '25148397', '25148398', '25148399', '25148400', '25148401', '25148402'], 'get_insert_sizes': ['25148403', '25148404', '25148405', '25148406', '25148407', '25148408', '25148409', '25148410', '25148411'], 'plot_insert_sizes': ['25148412']}\n"
     ]
    }
   ],
   "source": [
    "myexp.main()"
   ]
  },
  {
   "cell_type": "code",
   "execution_count": 2,
   "metadata": {},
   "outputs": [
    {
     "name": "stdout",
     "output_type": "stream",
     "text": [
      "0 hello\n",
      "1 hi\n",
      "2 shalom\n"
     ]
    }
   ],
   "source": [
    "a = [\"hello\", \"hi\", \"shalom\"]\n",
    "for idx, sample in enumerate(a):\n",
    "    print(idx, sample)"
   ]
  },
  {
   "cell_type": "code",
   "execution_count": 4,
   "metadata": {},
   "outputs": [
    {
     "ename": "KeyError",
     "evalue": "1",
     "output_type": "error",
     "traceback": [
      "\u001b[0;31m---------------------------------------------------------------------------\u001b[0m",
      "\u001b[0;31mKeyError\u001b[0m                                  Traceback (most recent call last)",
      "\u001b[0;32m<ipython-input-4-a2dd464b26db>\u001b[0m in \u001b[0;36m<module>\u001b[0;34m\u001b[0m\n\u001b[1;32m      1\u001b[0m \u001b[0mmydict\u001b[0m \u001b[0;34m=\u001b[0m \u001b[0;34m{\u001b[0m\u001b[0;34m'a'\u001b[0m\u001b[0;34m:\u001b[0m \u001b[0;36m1\u001b[0m\u001b[0;34m,\u001b[0m \u001b[0;34m'b'\u001b[0m\u001b[0;34m:\u001b[0m \u001b[0;36m2\u001b[0m\u001b[0;34m,\u001b[0m \u001b[0;34m'c'\u001b[0m\u001b[0;34m:\u001b[0m \u001b[0;36m3\u001b[0m\u001b[0;34m}\u001b[0m\u001b[0;34m\u001b[0m\u001b[0;34m\u001b[0m\u001b[0m\n\u001b[0;32m----> 2\u001b[0;31m \u001b[0mmydict\u001b[0m\u001b[0;34m[\u001b[0m\u001b[0;36m1\u001b[0m\u001b[0;34m]\u001b[0m\u001b[0;34m\u001b[0m\u001b[0;34m\u001b[0m\u001b[0m\n\u001b[0m",
      "\u001b[0;31mKeyError\u001b[0m: 1"
     ]
    }
   ],
   "source": [
    "mydict = {'a': 1, 'b': 2, 'c': 3}\n",
    "mydict[]"
   ]
  }
 ],
 "metadata": {
  "interpreter": {
   "hash": "120a4dfaa21da1d76983badcca089879527611048dfb8abab40f8736c2d23c2f"
  },
  "kernelspec": {
   "display_name": "Python 3.7.12 ('ATACseq_env': conda)",
   "language": "python",
   "name": "python3"
  },
  "language_info": {
   "codemirror_mode": {
    "name": "ipython",
    "version": 3
   },
   "file_extension": ".py",
   "mimetype": "text/x-python",
   "name": "python",
   "nbconvert_exporter": "python",
   "pygments_lexer": "ipython3",
   "version": "3.7.12"
  },
  "orig_nbformat": 4
 },
 "nbformat": 4,
 "nbformat_minor": 2
}
