{
 "cells": [
  {
   "cell_type": "markdown",
   "metadata": {},
   "source": [
    "# ATAC-seq Pipeline\n",
    "## Quick-Start Guide\n",
    "This is a quick start guide to ATAC-seq pipeline. The pipeline is structures as a python library that can be imported with: "
   ]
  },
  {
   "cell_type": "code",
   "execution_count": 13,
   "metadata": {},
   "outputs": [
    {
     "data": {
      "text/plain": [
       "<module 'ATACseqPipeline' from '/gpfs/group/home/snagaraja/ATACseqPipeline/core/ATACseqPipeline.py'>"
      ]
     },
     "execution_count": 13,
     "metadata": {},
     "output_type": "execute_result"
    }
   ],
   "source": [
    "import ATACseqPipeline\n",
    "import importlib\n",
    "importlib.reload(ATACseqPipeline)"
   ]
  },
  {
   "cell_type": "code",
   "execution_count": 10,
   "metadata": {},
   "outputs": [
    {
     "name": "stdout",
     "output_type": "stream",
     "text": [
      "hi\n"
     ]
    }
   ],
   "source": [
    "print(\"hi\")"
   ]
  },
  {
   "cell_type": "markdown",
   "metadata": {},
   "source": [
    "The sample sheet must be configured as a tab-delimeted file. Must contain the following columns: SampleName (replicates of the same sample should still have unique names. rule of thumb: give a unique name for every single fastq R1R2 pair here.), Read1 (Path to read 1 of FASTQ file), Read2 (Path to read 2 of FASTQ file), Status (sample name. Replicates must have the same status), C/T (is this sample a control or treatment)."
   ]
  },
  {
   "cell_type": "markdown",
   "metadata": {},
   "source": [
    "The Pipeline object allows the user to set up an instance of the custom pipeline. It can be configured using a sample sheet as shown below. Note that setting dry_run=True at the time of pipeline creation will result in shell scripts to be created, but not submitted through SLURM. "
   ]
  },
  {
   "cell_type": "code",
   "execution_count": 11,
   "metadata": {},
   "outputs": [
    {
     "name": "stdout",
     "output_type": "stream",
     "text": [
      "/gpfs/group/home/snagaraja/ATACseqPipeline/core\n"
     ]
    }
   ],
   "source": [
    "myexp = ATACseqPipeline.Pipeline(data_path='/gpfs/home/snagaraja/Exp122_Chd7_0.01', dry_run=True, app_path='/gpfs/home/snagaraja/ATACseqPipeline/core')\n",
    "myexp.from_ssheet(ssheet_path='/gpfs/home/snagaraja/ATACseqPipeline/data/exp122_ssheet.txt')"
   ]
  },
  {
   "cell_type": "code",
   "execution_count": 4,
   "metadata": {},
   "outputs": [
    {
     "name": "stdout",
     "output_type": "stream",
     "text": [
      "   SampleName                                              Read1  \\\n",
      "0     shCD4_1  /gpfs/home/snagaraja/ATACseqPipeline/data/Exp1...   \n",
      "1     shCD4_2  /gpfs/home/snagaraja/ATACseqPipeline/data/Exp1...   \n",
      "2      shCD19  /gpfs/home/snagaraja/ATACseqPipeline/data/Exp1...   \n",
      "3  shChd7.1_1  /gpfs/home/snagaraja/ATACseqPipeline/data/Exp1...   \n",
      "4  shChd7.1_2  /gpfs/home/snagaraja/ATACseqPipeline/data/Exp1...   \n",
      "5  shChd7.2_1  /gpfs/home/snagaraja/ATACseqPipeline/data/Exp1...   \n",
      "6  shChd7.2_2  /gpfs/home/snagaraja/ATACseqPipeline/data/Exp1...   \n",
      "7  shChd7.3_1  /gpfs/home/snagaraja/ATACseqPipeline/data/Exp1...   \n",
      "8  shChd7.3_2  /gpfs/home/snagaraja/ATACseqPipeline/data/Exp1...   \n",
      "\n",
      "                                               Read2    Status CT Batch   \n",
      "0  /gpfs/home/snagaraja/ATACseqPipeline/data/Exp1...     shCD4  C    One  \n",
      "1  /gpfs/home/snagaraja/ATACseqPipeline/data/Exp1...     shCD4  C    Two  \n",
      "2  /gpfs/home/snagaraja/ATACseqPipeline/data/Exp1...    shCD19  C    One  \n",
      "3  /gpfs/home/snagaraja/ATACseqPipeline/data/Exp1...  shChd7.1  T    One  \n",
      "4  /gpfs/home/snagaraja/ATACseqPipeline/data/Exp1...  shChd7.1  T    Two  \n",
      "5  /gpfs/home/snagaraja/ATACseqPipeline/data/Exp1...  shChd7.2  T    One  \n",
      "6  /gpfs/home/snagaraja/ATACseqPipeline/data/Exp1...  shChd7.2  T    Two  \n",
      "7  /gpfs/home/snagaraja/ATACseqPipeline/data/Exp1...  shChd7.3  T    One  \n",
      "8  /gpfs/home/snagaraja/ATACseqPipeline/data/Exp1...  shChd7.3  T    Two  \n"
     ]
    }
   ],
   "source": [
    "import pandas as pd \n",
    "sampsheet = pd.read_csv('/gpfs/home/snagaraja/ATACseqPipeline/data/exp122_ssheet.txt', sep='\\t')\n",
    "print(sampsheet)"
   ]
  },
  {
   "cell_type": "markdown",
   "metadata": {},
   "source": [
    "Now uncomment each of these lines of code and hit play to run them. You should be able to monitor your jobs by using `squeue -u username`. As of right now, you need to run a step, and only run the next step once the previous one is complete. Future versions will run all job automagically. "
   ]
  },
  {
   "cell_type": "code",
   "execution_count": 5,
   "metadata": {},
   "outputs": [],
   "source": [
    "# myexp.configure_envs()"
   ]
  },
  {
   "cell_type": "code",
   "execution_count": 6,
   "metadata": {},
   "outputs": [
    {
     "name": "stdout",
     "output_type": "stream",
     "text": [
      "/gpfs/home/snagaraja/Exp122_Chd7_0.01/bams/\n",
      "created /gpfs/home/snagaraja/Exp122_Chd7_0.01/submissions/align_fastqs_shCD4_1.sh\n",
      "created /gpfs/home/snagaraja/Exp122_Chd7_0.01/submissions/align_fastqs_shCD4_2.sh\n",
      "created /gpfs/home/snagaraja/Exp122_Chd7_0.01/submissions/align_fastqs_shCD19.sh\n",
      "created /gpfs/home/snagaraja/Exp122_Chd7_0.01/submissions/align_fastqs_shChd7.1_1.sh\n",
      "created /gpfs/home/snagaraja/Exp122_Chd7_0.01/submissions/align_fastqs_shChd7.1_2.sh\n",
      "created /gpfs/home/snagaraja/Exp122_Chd7_0.01/submissions/align_fastqs_shChd7.2_1.sh\n",
      "created /gpfs/home/snagaraja/Exp122_Chd7_0.01/submissions/align_fastqs_shChd7.2_2.sh\n",
      "created /gpfs/home/snagaraja/Exp122_Chd7_0.01/submissions/align_fastqs_shChd7.3_1.sh\n",
      "created /gpfs/home/snagaraja/Exp122_Chd7_0.01/submissions/align_fastqs_shChd7.3_2.sh\n"
     ]
    }
   ],
   "source": [
    "myexp.align_fastqs(genome_path='/gpfs/group/pipkin/tvenable/MusRef/MouseRefseq39_bowtie')"
   ]
  },
  {
   "cell_type": "code",
   "execution_count": 7,
   "metadata": {},
   "outputs": [
    {
     "name": "stdout",
     "output_type": "stream",
     "text": [
      "/gpfs/home/snagaraja/Exp122_Chd7_0.01/bams_noDups_noMito/\n",
      "created /gpfs/home/snagaraja/Exp122_Chd7_0.01/submissions/remove_mito_shCD4_1.sh\n",
      "created /gpfs/home/snagaraja/Exp122_Chd7_0.01/submissions/remove_mito_shCD4_2.sh\n",
      "created /gpfs/home/snagaraja/Exp122_Chd7_0.01/submissions/remove_mito_shCD19.sh\n",
      "created /gpfs/home/snagaraja/Exp122_Chd7_0.01/submissions/remove_mito_shChd7.1_1.sh\n",
      "created /gpfs/home/snagaraja/Exp122_Chd7_0.01/submissions/remove_mito_shChd7.1_2.sh\n",
      "created /gpfs/home/snagaraja/Exp122_Chd7_0.01/submissions/remove_mito_shChd7.2_1.sh\n",
      "created /gpfs/home/snagaraja/Exp122_Chd7_0.01/submissions/remove_mito_shChd7.2_2.sh\n",
      "created /gpfs/home/snagaraja/Exp122_Chd7_0.01/submissions/remove_mito_shChd7.3_1.sh\n",
      "created /gpfs/home/snagaraja/Exp122_Chd7_0.01/submissions/remove_mito_shChd7.3_2.sh\n"
     ]
    }
   ],
   "source": [
    "myexp.remove_mito()"
   ]
  },
  {
   "cell_type": "code",
   "execution_count": 8,
   "metadata": {},
   "outputs": [
    {
     "name": "stdout",
     "output_type": "stream",
     "text": [
      "created /gpfs/home/snagaraja/Exp122_Chd7_0.01/submissions/remove_duplicates_shCD4_1.sh\n",
      "created /gpfs/home/snagaraja/Exp122_Chd7_0.01/submissions/remove_duplicates_shCD4_2.sh\n",
      "created /gpfs/home/snagaraja/Exp122_Chd7_0.01/submissions/remove_duplicates_shCD19.sh\n",
      "created /gpfs/home/snagaraja/Exp122_Chd7_0.01/submissions/remove_duplicates_shChd7.1_1.sh\n",
      "created /gpfs/home/snagaraja/Exp122_Chd7_0.01/submissions/remove_duplicates_shChd7.1_2.sh\n",
      "created /gpfs/home/snagaraja/Exp122_Chd7_0.01/submissions/remove_duplicates_shChd7.2_1.sh\n",
      "created /gpfs/home/snagaraja/Exp122_Chd7_0.01/submissions/remove_duplicates_shChd7.2_2.sh\n",
      "created /gpfs/home/snagaraja/Exp122_Chd7_0.01/submissions/remove_duplicates_shChd7.3_1.sh\n",
      "created /gpfs/home/snagaraja/Exp122_Chd7_0.01/submissions/remove_duplicates_shChd7.3_2.sh\n"
     ]
    }
   ],
   "source": [
    "myexp.remove_duplicates()"
   ]
  },
  {
   "cell_type": "code",
   "execution_count": 9,
   "metadata": {},
   "outputs": [
    {
     "name": "stdout",
     "output_type": "stream",
     "text": [
      "created /gpfs/home/snagaraja/Exp122_Chd7_0.01/submissions/call_peaks_macs2_shCD4_1.sh\n",
      "created /gpfs/home/snagaraja/Exp122_Chd7_0.01/submissions/call_peaks_macs2_shCD4_2.sh\n",
      "created /gpfs/home/snagaraja/Exp122_Chd7_0.01/submissions/call_peaks_macs2_shCD19.sh\n",
      "created /gpfs/home/snagaraja/Exp122_Chd7_0.01/submissions/call_peaks_macs2_shChd7.1_1.sh\n",
      "created /gpfs/home/snagaraja/Exp122_Chd7_0.01/submissions/call_peaks_macs2_shChd7.1_2.sh\n",
      "created /gpfs/home/snagaraja/Exp122_Chd7_0.01/submissions/call_peaks_macs2_shChd7.2_1.sh\n",
      "created /gpfs/home/snagaraja/Exp122_Chd7_0.01/submissions/call_peaks_macs2_shChd7.2_2.sh\n",
      "created /gpfs/home/snagaraja/Exp122_Chd7_0.01/submissions/call_peaks_macs2_shChd7.3_1.sh\n",
      "created /gpfs/home/snagaraja/Exp122_Chd7_0.01/submissions/call_peaks_macs2_shChd7.3_2.sh\n"
     ]
    }
   ],
   "source": [
    "myexp.call_peaks_macs2()"
   ]
  },
  {
   "cell_type": "code",
   "execution_count": 10,
   "metadata": {},
   "outputs": [
    {
     "name": "stdout",
     "output_type": "stream",
     "text": [
      "created /gpfs/home/snagaraja/Exp122_Chd7_0.01/submissions/filter_blacklist_shCD4_1.sh\n",
      "created /gpfs/home/snagaraja/Exp122_Chd7_0.01/submissions/filter_blacklist_shCD4_2.sh\n",
      "created /gpfs/home/snagaraja/Exp122_Chd7_0.01/submissions/filter_blacklist_shCD19.sh\n",
      "created /gpfs/home/snagaraja/Exp122_Chd7_0.01/submissions/filter_blacklist_shChd7.1_1.sh\n",
      "created /gpfs/home/snagaraja/Exp122_Chd7_0.01/submissions/filter_blacklist_shChd7.1_2.sh\n",
      "created /gpfs/home/snagaraja/Exp122_Chd7_0.01/submissions/filter_blacklist_shChd7.2_1.sh\n",
      "created /gpfs/home/snagaraja/Exp122_Chd7_0.01/submissions/filter_blacklist_shChd7.2_2.sh\n",
      "created /gpfs/home/snagaraja/Exp122_Chd7_0.01/submissions/filter_blacklist_shChd7.3_1.sh\n",
      "created /gpfs/home/snagaraja/Exp122_Chd7_0.01/submissions/filter_blacklist_shChd7.3_2.sh\n"
     ]
    }
   ],
   "source": [
    "myexp.filter_blacklist('/gpfs/home/snagaraja/ATACseqPipeline/refs/blacklist.bed')"
   ]
  },
  {
   "cell_type": "code",
   "execution_count": 11,
   "metadata": {},
   "outputs": [
    {
     "name": "stdout",
     "output_type": "stream",
     "text": [
      "created /gpfs/home/snagaraja/Exp122_Chd7_0.01/submissions/get_insert_sizes_shCD4_1.sh\n",
      "created /gpfs/home/snagaraja/Exp122_Chd7_0.01/submissions/get_insert_sizes_shCD4_2.sh\n",
      "created /gpfs/home/snagaraja/Exp122_Chd7_0.01/submissions/get_insert_sizes_shCD19.sh\n",
      "created /gpfs/home/snagaraja/Exp122_Chd7_0.01/submissions/get_insert_sizes_shChd7.1_1.sh\n",
      "created /gpfs/home/snagaraja/Exp122_Chd7_0.01/submissions/get_insert_sizes_shChd7.1_2.sh\n",
      "created /gpfs/home/snagaraja/Exp122_Chd7_0.01/submissions/get_insert_sizes_shChd7.2_1.sh\n",
      "created /gpfs/home/snagaraja/Exp122_Chd7_0.01/submissions/get_insert_sizes_shChd7.2_2.sh\n",
      "created /gpfs/home/snagaraja/Exp122_Chd7_0.01/submissions/get_insert_sizes_shChd7.3_1.sh\n",
      "created /gpfs/home/snagaraja/Exp122_Chd7_0.01/submissions/get_insert_sizes_shChd7.3_2.sh\n"
     ]
    }
   ],
   "source": [
    "myexp.get_insert_sizes()"
   ]
  },
  {
   "cell_type": "code",
   "execution_count": 12,
   "metadata": {},
   "outputs": [
    {
     "name": "stdout",
     "output_type": "stream",
     "text": [
      "created /gpfs/home/snagaraja/Exp122_Chd7_0.01/submissions/plot_insert_sizes.sh\n"
     ]
    }
   ],
   "source": [
    "myexp.plot_insert_sizes()"
   ]
  },
  {
   "cell_type": "code",
   "execution_count": 13,
   "metadata": {},
   "outputs": [
    {
     "name": "stdout",
     "output_type": "stream",
     "text": [
      "created /gpfs/home/snagaraja/Exp122_Chd7_0.01/submissions/merge_peaks.sh\n"
     ]
    }
   ],
   "source": [
    "myexp.merge_peaks()"
   ]
  },
  {
   "cell_type": "code",
   "execution_count": 14,
   "metadata": {},
   "outputs": [
    {
     "name": "stdout",
     "output_type": "stream",
     "text": [
      "created /gpfs/home/snagaraja/Exp122_Chd7_0.01/submissions/peak_counts.sh\n"
     ]
    }
   ],
   "source": [
    "myexp.peak_counts()"
   ]
  },
  {
   "cell_type": "code",
   "execution_count": 15,
   "metadata": {},
   "outputs": [
    {
     "name": "stdout",
     "output_type": "stream",
     "text": [
      "created /gpfs/home/snagaraja/Exp122_Chd7_0.01/submissions/fastqc_shCD4_1.sh\n",
      "created /gpfs/home/snagaraja/Exp122_Chd7_0.01/submissions/fastqc_shCD4_2.sh\n",
      "created /gpfs/home/snagaraja/Exp122_Chd7_0.01/submissions/fastqc_shCD19.sh\n",
      "created /gpfs/home/snagaraja/Exp122_Chd7_0.01/submissions/fastqc_shChd7.1_1.sh\n",
      "created /gpfs/home/snagaraja/Exp122_Chd7_0.01/submissions/fastqc_shChd7.1_2.sh\n",
      "created /gpfs/home/snagaraja/Exp122_Chd7_0.01/submissions/fastqc_shChd7.2_1.sh\n",
      "created /gpfs/home/snagaraja/Exp122_Chd7_0.01/submissions/fastqc_shChd7.2_2.sh\n",
      "created /gpfs/home/snagaraja/Exp122_Chd7_0.01/submissions/fastqc_shChd7.3_1.sh\n",
      "created /gpfs/home/snagaraja/Exp122_Chd7_0.01/submissions/fastqc_shChd7.3_2.sh\n"
     ]
    }
   ],
   "source": [
    "myexp.fastqc()"
   ]
  },
  {
   "cell_type": "code",
   "execution_count": 16,
   "metadata": {},
   "outputs": [
    {
     "name": "stdout",
     "output_type": "stream",
     "text": [
      "created /gpfs/home/snagaraja/Exp122_Chd7_0.01/submissions/multiqc.sh\n"
     ]
    }
   ],
   "source": [
    "myexp.multiqc_report()"
   ]
  },
  {
   "cell_type": "code",
   "execution_count": 17,
   "metadata": {},
   "outputs": [
    {
     "name": "stdout",
     "output_type": "stream",
     "text": [
      "created /gpfs/home/snagaraja/Exp122_Chd7_0.01/submissions/bam_to_bed_shCD4_1.sh\n",
      "created /gpfs/home/snagaraja/Exp122_Chd7_0.01/submissions/bam_to_bed_shCD4_2.sh\n",
      "created /gpfs/home/snagaraja/Exp122_Chd7_0.01/submissions/bam_to_bed_shCD19.sh\n",
      "created /gpfs/home/snagaraja/Exp122_Chd7_0.01/submissions/bam_to_bed_shChd7.1_1.sh\n",
      "created /gpfs/home/snagaraja/Exp122_Chd7_0.01/submissions/bam_to_bed_shChd7.1_2.sh\n",
      "created /gpfs/home/snagaraja/Exp122_Chd7_0.01/submissions/bam_to_bed_shChd7.2_1.sh\n",
      "created /gpfs/home/snagaraja/Exp122_Chd7_0.01/submissions/bam_to_bed_shChd7.2_2.sh\n",
      "created /gpfs/home/snagaraja/Exp122_Chd7_0.01/submissions/bam_to_bed_shChd7.3_1.sh\n",
      "created /gpfs/home/snagaraja/Exp122_Chd7_0.01/submissions/bam_to_bed_shChd7.3_2.sh\n"
     ]
    }
   ],
   "source": [
    "myexp.bam_to_bed()"
   ]
  },
  {
   "cell_type": "code",
   "execution_count": 18,
   "metadata": {},
   "outputs": [
    {
     "name": "stdout",
     "output_type": "stream",
     "text": [
      "created /gpfs/home/snagaraja/Exp122_Chd7_0.01/submissions/merge_peaks.sh\n"
     ]
    }
   ],
   "source": [
    "myexp.merge_peaks()"
   ]
  },
  {
   "cell_type": "code",
   "execution_count": 19,
   "metadata": {},
   "outputs": [
    {
     "name": "stdout",
     "output_type": "stream",
     "text": [
      "created /gpfs/home/snagaraja/Exp122_Chd7_0.01/submissions/peak_counts.sh\n"
     ]
    }
   ],
   "source": [
    "myexp.peak_counts()"
   ]
  },
  {
   "cell_type": "code",
   "execution_count": 20,
   "metadata": {},
   "outputs": [
    {
     "name": "stdout",
     "output_type": "stream",
     "text": [
      "created /gpfs/home/snagaraja/Exp122_Chd7_0.01/submissions/bed_to_gtf.sh\n"
     ]
    }
   ],
   "source": [
    "myexp.bed_to_gtf()"
   ]
  },
  {
   "cell_type": "code",
   "execution_count": 21,
   "metadata": {},
   "outputs": [
    {
     "name": "stdout",
     "output_type": "stream",
     "text": [
      "created /gpfs/home/snagaraja/Exp122_Chd7_0.01/submissions/peak_counts.sh\n"
     ]
    }
   ],
   "source": [
    "myexp.peak_counts()"
   ]
  },
  {
   "cell_type": "code",
   "execution_count": 22,
   "metadata": {},
   "outputs": [
    {
     "name": "stdout",
     "output_type": "stream",
     "text": [
      "created /gpfs/home/snagaraja/Exp122_Chd7_0.01/submissions/shift_peaks_shCD4_1.sh\n",
      "created /gpfs/home/snagaraja/Exp122_Chd7_0.01/submissions/shift_peaks_shCD4_2.sh\n",
      "created /gpfs/home/snagaraja/Exp122_Chd7_0.01/submissions/shift_peaks_shCD19.sh\n",
      "created /gpfs/home/snagaraja/Exp122_Chd7_0.01/submissions/shift_peaks_shChd7.1_1.sh\n",
      "created /gpfs/home/snagaraja/Exp122_Chd7_0.01/submissions/shift_peaks_shChd7.1_2.sh\n",
      "created /gpfs/home/snagaraja/Exp122_Chd7_0.01/submissions/shift_peaks_shChd7.2_1.sh\n",
      "created /gpfs/home/snagaraja/Exp122_Chd7_0.01/submissions/shift_peaks_shChd7.2_2.sh\n",
      "created /gpfs/home/snagaraja/Exp122_Chd7_0.01/submissions/shift_peaks_shChd7.3_1.sh\n",
      "created /gpfs/home/snagaraja/Exp122_Chd7_0.01/submissions/shift_peaks_shChd7.3_2.sh\n"
     ]
    }
   ],
   "source": [
    "myexp.shift_peaks('/gpfs/home/snagaraja/ATACseqPipeline/core/GCF_000001635.27_GRCm39_genomic.size')"
   ]
  },
  {
   "cell_type": "code",
   "execution_count": 23,
   "metadata": {},
   "outputs": [
    {
     "name": "stdout",
     "output_type": "stream",
     "text": [
      "created /gpfs/home/snagaraja/Exp122_Chd7_0.01/submissions/bam_to_bigWig_shCD4_1.sh\n",
      "created /gpfs/home/snagaraja/Exp122_Chd7_0.01/submissions/bam_to_bigWig_shCD4_2.sh\n",
      "created /gpfs/home/snagaraja/Exp122_Chd7_0.01/submissions/bam_to_bigWig_shCD19.sh\n",
      "created /gpfs/home/snagaraja/Exp122_Chd7_0.01/submissions/bam_to_bigWig_shChd7.1_1.sh\n",
      "created /gpfs/home/snagaraja/Exp122_Chd7_0.01/submissions/bam_to_bigWig_shChd7.1_2.sh\n",
      "created /gpfs/home/snagaraja/Exp122_Chd7_0.01/submissions/bam_to_bigWig_shChd7.2_1.sh\n",
      "created /gpfs/home/snagaraja/Exp122_Chd7_0.01/submissions/bam_to_bigWig_shChd7.2_2.sh\n",
      "created /gpfs/home/snagaraja/Exp122_Chd7_0.01/submissions/bam_to_bigWig_shChd7.3_1.sh\n",
      "created /gpfs/home/snagaraja/Exp122_Chd7_0.01/submissions/bam_to_bigWig_shChd7.3_2.sh\n"
     ]
    }
   ],
   "source": [
    "myexp.bam_to_bigWig()"
   ]
  },
  {
   "cell_type": "code",
   "execution_count": 24,
   "metadata": {},
   "outputs": [
    {
     "name": "stdout",
     "output_type": "stream",
     "text": [
      "done\n"
     ]
    }
   ],
   "source": [
    "print(\"done\")"
   ]
  },
  {
   "cell_type": "code",
   "execution_count": 25,
   "metadata": {},
   "outputs": [
    {
     "name": "stdout",
     "output_type": "stream",
     "text": [
      "{'align_fastqs': ['25148457', '25148458', '25148459', '25148460', '25148461', '25148462', '25148463', '25148464', '25148465'], 'remove_mito': ['25148466', '25148467', '25148468', '25148469', '25148470', '25148471', '25148472', '25148473', '25148474'], 'remove_duplicates': ['25148475', '25148476', '25148477', '25148478', '25148479', '25148480', '25148481', '25148482', '25148483'], 'bam_to_bed': ['25148484', '25148485', '25148486', '25148487', '25148488', '25148489', '25148490', '25148491', '25148492'], 'shift_peaks': ['25148493', '25148494', '25148495', '25148496', '25148497', '25148498', '25148499', '25148500', '25148501'], 'call_peaks_macs2': ['25148502', '25148503', '25148504', '25148505', '25148506', '25148507', '25148508', '25148509', '25148510'], 'filter_blacklist': ['25148511', '25148512', '25148513', '25148514', '25148515', '25148516', '25148517', '25148518', '25148519'], 'merge_peaks': ['25148520'], 'bed_to_gtf': ['25148521'], 'peak_counts': ['25148522'], 'bam_to_bigWig': ['25148523', '25148524', '25148525', '25148526', '25148527', '25148528', '25148529', '25148530', '25148531'], 'get_insert_sizes': ['25148532', '25148533', '25148534', '25148535', '25148536', '25148537', '25148538', '25148539', '25148540'], 'plot_insert_sizes': ['25148541'], 'fastqc': ['25148542', '25148543', '25148544', '25148545', '25148546', '25148547', '25148548', '25148549', '25148550'], 'multiqc_report': []}\n"
     ]
    }
   ],
   "source": [
    "myexp.main()"
   ]
  }
 ],
 "metadata": {
  "interpreter": {
   "hash": "120a4dfaa21da1d76983badcca089879527611048dfb8abab40f8736c2d23c2f"
  },
  "kernelspec": {
   "display_name": "Python 3.7.12 ('ATACseq_env': conda)",
   "language": "python",
   "name": "python3"
  },
  "language_info": {
   "codemirror_mode": {
    "name": "ipython",
    "version": 3
   },
   "file_extension": ".py",
   "mimetype": "text/x-python",
   "name": "python",
   "nbconvert_exporter": "python",
   "pygments_lexer": "ipython3",
   "version": "3.7.12"
  },
  "orig_nbformat": 4
 },
 "nbformat": 4,
 "nbformat_minor": 2
}
