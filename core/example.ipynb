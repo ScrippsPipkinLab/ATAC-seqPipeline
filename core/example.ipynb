{
 "cells": [
  {
   "cell_type": "markdown",
   "metadata": {},
   "source": [
    "# ATAC-seq Pipeline\n",
    "## Quick-Start Guide\n",
    "This is a quick start guide to ATAC-seq pipeline. The pipeline is structures as a python library that can be imported with: "
   ]
  },
  {
   "cell_type": "code",
   "execution_count": 1,
   "metadata": {},
   "outputs": [],
   "source": [
    "import ATACseqPipeline"
   ]
  },
  {
   "cell_type": "markdown",
   "metadata": {},
   "source": [
    "The Pipeline object allows the user to set up an instance of the custom pipeline. It can be configured using a sample sheet as shown below. "
   ]
  },
  {
   "cell_type": "code",
   "execution_count": 3,
   "metadata": {},
   "outputs": [
    {
     "name": "stdout",
     "output_type": "stream",
     "text": [
      "Status\n",
      "Activated    2\n",
      "Control      2\n",
      "Name: TechRep, dtype: int64\n"
     ]
    }
   ],
   "source": [
    "myexp = ATACseqPipeline.Pipeline(data_path='/gpfs/home/snagaraja/ATACseqPipeline/data')\n",
    "myexp.from_ssheet('/gpfs/home/snagaraja/ATACseqPipeline/data/encode_example/Leslie_MSKCC.txt')"
   ]
  },
  {
   "cell_type": "markdown",
   "metadata": {},
   "source": [
    "The sample sheet must be configured as a tab-delimeted file. Must contain the following columns: SampleName, Read1 (Path to read 1 of FASTQ file), Read2 (Path to read 2 of FASTQ file), Status (Atleast one sample must be \"Control\", TechRep (Technical Replicate number)"
   ]
  },
  {
   "cell_type": "code",
   "execution_count": 4,
   "metadata": {},
   "outputs": [
    {
     "name": "stdout",
     "output_type": "stream",
     "text": [
      "      SampleName                                              Read1  \\\n",
      "0  Activated_TR1  /gpfs/home/snagaraja/ATACseqPipeline/data/enco...   \n",
      "1  Activated_TR2  /gpfs/home/snagaraja/ATACseqPipeline/data/enco...   \n",
      "2    Control_TR1  /gpfs/home/snagaraja/ATACseqPipeline/data/enco...   \n",
      "3    Control_TR2  /gpfs/home/snagaraja/ATACseqPipeline/data/enco...   \n",
      "\n",
      "                                               Read2     Status  TechRep  \n",
      "0  /gpfs/home/snagaraja/ATACseqPipeline/data/enco...  Activated        1  \n",
      "1  /gpfs/home/snagaraja/ATACseqPipeline/data/enco...  Activated        2  \n",
      "2  /gpfs/home/snagaraja/ATACseqPipeline/data/enco...   Control         1  \n",
      "3  /gpfs/home/snagaraja/ATACseqPipeline/data/enco...   Control         2  \n"
     ]
    }
   ],
   "source": [
    "import pandas as pd \n",
    "sampsheet = pd.read_csv('/gpfs/home/snagaraja/ATACseqPipeline/data/encode_example/Leslie_MSKCC.txt', sep='\\t')\n",
    "print(sampsheet)"
   ]
  }
 ],
 "metadata": {
  "interpreter": {
   "hash": "120a4dfaa21da1d76983badcca089879527611048dfb8abab40f8736c2d23c2f"
  },
  "kernelspec": {
   "display_name": "Python 3.7.12 ('ATACseq_env': conda)",
   "language": "python",
   "name": "python3"
  },
  "language_info": {
   "codemirror_mode": {
    "name": "ipython",
    "version": 3
   },
   "file_extension": ".py",
   "mimetype": "text/x-python",
   "name": "python",
   "nbconvert_exporter": "python",
   "pygments_lexer": "ipython3",
   "version": "3.7.12"
  },
  "orig_nbformat": 4
 },
 "nbformat": 4,
 "nbformat_minor": 2
}
