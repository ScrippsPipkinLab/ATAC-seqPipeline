{
 "cells": [
  {
   "cell_type": "code",
   "execution_count": 58,
   "metadata": {},
   "outputs": [],
   "source": [
    "import pandas as pd\n",
    "import glob, os"
   ]
  },
  {
   "cell_type": "code",
   "execution_count": 59,
   "metadata": {},
   "outputs": [],
   "source": [
    "# temp\n",
    "matched_genes_file = '/blue/m.pipkin/stsuda/ATAC_Ets1KO_invitro/merged/matched_genes.txt'\n",
    "deseq2_output = '/blue/m.pipkin/stsuda/ATAC_Ets1KO_invitro/deseq2/0h_vs_2h.csv'"
   ]
  },
  {
   "cell_type": "code",
   "execution_count": 2,
   "metadata": {},
   "outputs": [
    {
     "name": "stdout",
     "output_type": "stream",
     "text": [
      "/blue/m.pipkin/stsuda/ATAC_Ets1KO_invitro/deseq2/WT_12h_vs_KO_0h.csv\n",
      "/blue/m.pipkin/stsuda/ATAC_Ets1KO_invitro/deseq2/WT_0h_vs_KO_2h.csv\n",
      "/blue/m.pipkin/stsuda/ATAC_Ets1KO_invitro/deseq2/KO_48h_vs_WT_6h.csv\n",
      "/blue/m.pipkin/stsuda/ATAC_Ets1KO_invitro/deseq2/KO_48h_vs_WT_48h.csv\n",
      "/blue/m.pipkin/stsuda/ATAC_Ets1KO_invitro/deseq2/KO_24h_vs_WT_48h.csv\n",
      "/blue/m.pipkin/stsuda/ATAC_Ets1KO_invitro/deseq2/WT_6h_vs_KO_24h.csv\n",
      "/blue/m.pipkin/stsuda/ATAC_Ets1KO_invitro/deseq2/WT_12h_vs_WT_48h.csv\n",
      "/blue/m.pipkin/stsuda/ATAC_Ets1KO_invitro/deseq2/WT_2h_vs_KO_2h.csv\n",
      "/blue/m.pipkin/stsuda/ATAC_Ets1KO_invitro/deseq2/KO_2h_vs_WT_12h.csv\n",
      "/blue/m.pipkin/stsuda/ATAC_Ets1KO_invitro/deseq2/KO_24h_vs_KO_12h.csv\n",
      "/blue/m.pipkin/stsuda/ATAC_Ets1KO_invitro/deseq2/WT_2h_vs_KO_48h.csv\n",
      "/blue/m.pipkin/stsuda/ATAC_Ets1KO_invitro/deseq2/KO_2h_vs_WT_2h.csv\n",
      "/blue/m.pipkin/stsuda/ATAC_Ets1KO_invitro/deseq2/WT_6h_vs_WT_48h.csv\n",
      "/blue/m.pipkin/stsuda/ATAC_Ets1KO_invitro/deseq2/KO_2h_vs_KO_24h.csv\n",
      "/blue/m.pipkin/stsuda/ATAC_Ets1KO_invitro/deseq2/KO_2h_vs_KO_6h.csv\n",
      "/blue/m.pipkin/stsuda/ATAC_Ets1KO_invitro/deseq2/WT_0h_vs_WT_6h.csv\n",
      "/blue/m.pipkin/stsuda/ATAC_Ets1KO_invitro/deseq2/KO_48h_vs_WT_0h.csv\n",
      "/blue/m.pipkin/stsuda/ATAC_Ets1KO_invitro/deseq2/KO_48h_vs_KO_12h.csv\n",
      "/blue/m.pipkin/stsuda/ATAC_Ets1KO_invitro/deseq2/KO_48h_vs_WT_2h.csv\n",
      "/blue/m.pipkin/stsuda/ATAC_Ets1KO_invitro/deseq2/KO_2h_vs_WT_0h.csv\n",
      "/blue/m.pipkin/stsuda/ATAC_Ets1KO_invitro/deseq2/WT_0h_vs_WT_24h.csv\n",
      "/blue/m.pipkin/stsuda/ATAC_Ets1KO_invitro/deseq2/WT_6h_vs_KO_0h.csv\n",
      "/blue/m.pipkin/stsuda/ATAC_Ets1KO_invitro/deseq2/WT_12h_vs_WT_24h.csv\n",
      "/blue/m.pipkin/stsuda/ATAC_Ets1KO_invitro/deseq2/WT_0h_vs_KO_0h.csv\n",
      "/blue/m.pipkin/stsuda/ATAC_Ets1KO_invitro/deseq2/WT_12h_vs_KO_6h.csv\n",
      "/blue/m.pipkin/stsuda/ATAC_Ets1KO_invitro/deseq2/WT_6h_vs_WT_12h.csv\n",
      "/blue/m.pipkin/stsuda/ATAC_Ets1KO_invitro/deseq2/WT_0h_vs_KO_6h.csv\n",
      "/blue/m.pipkin/stsuda/ATAC_Ets1KO_invitro/deseq2/KO_48h_vs_WT_12h.csv\n",
      "/blue/m.pipkin/stsuda/ATAC_Ets1KO_invitro/deseq2/WT_2h_vs_WT_24h.csv\n",
      "/blue/m.pipkin/stsuda/ATAC_Ets1KO_invitro/deseq2/WT_6h_vs_WT_2h.csv\n",
      "/blue/m.pipkin/stsuda/ATAC_Ets1KO_invitro/deseq2/WT_2h_vs_KO_24h.csv\n",
      "/blue/m.pipkin/stsuda/ATAC_Ets1KO_invitro/deseq2/WT_6h_vs_WT_0h.csv\n",
      "/blue/m.pipkin/stsuda/ATAC_Ets1KO_invitro/deseq2/KO_24h_vs_WT_24h.csv\n",
      "/blue/m.pipkin/stsuda/ATAC_Ets1KO_invitro/deseq2/WT_12h_vs_KO_24h.csv\n",
      "/blue/m.pipkin/stsuda/ATAC_Ets1KO_invitro/deseq2/WT_0h_vs_KO_12h.csv\n",
      "/blue/m.pipkin/stsuda/ATAC_Ets1KO_invitro/deseq2/KO_24h_vs_KO_2h.csv\n",
      "/blue/m.pipkin/stsuda/ATAC_Ets1KO_invitro/deseq2/WT_6h_vs_KO_12h.csv\n",
      "/blue/m.pipkin/stsuda/ATAC_Ets1KO_invitro/deseq2/KO_24h_vs_WT_6h.csv\n",
      "/blue/m.pipkin/stsuda/ATAC_Ets1KO_invitro/deseq2/KO_24h_vs_KO_48h.csv\n",
      "/blue/m.pipkin/stsuda/ATAC_Ets1KO_invitro/deseq2/WT_2h_vs_WT_48h.csv\n",
      "/blue/m.pipkin/stsuda/ATAC_Ets1KO_invitro/deseq2/WT_6h_vs_WT_24h.csv\n",
      "/blue/m.pipkin/stsuda/ATAC_Ets1KO_invitro/deseq2/WT_6h_vs_KO_2h.csv\n",
      "/blue/m.pipkin/stsuda/ATAC_Ets1KO_invitro/deseq2/KO_2h_vs_WT_6h.csv\n",
      "/blue/m.pipkin/stsuda/ATAC_Ets1KO_invitro/deseq2/WT_2h_vs_WT_0h.csv\n",
      "/blue/m.pipkin/stsuda/ATAC_Ets1KO_invitro/deseq2/WT_6h_vs_KO_48h.csv\n",
      "/blue/m.pipkin/stsuda/ATAC_Ets1KO_invitro/deseq2/WT_12h_vs_WT_2h.csv\n",
      "/blue/m.pipkin/stsuda/ATAC_Ets1KO_invitro/deseq2/KO_48h_vs_KO_6h.csv\n",
      "/blue/m.pipkin/stsuda/ATAC_Ets1KO_invitro/deseq2/WT_0h_vs_KO_48h.csv\n",
      "/blue/m.pipkin/stsuda/ATAC_Ets1KO_invitro/deseq2/WT_6h_vs_KO_6h.csv\n",
      "/blue/m.pipkin/stsuda/ATAC_Ets1KO_invitro/deseq2/KO_2h_vs_KO_48h.csv\n",
      "/blue/m.pipkin/stsuda/ATAC_Ets1KO_invitro/deseq2/WT_12h_vs_KO_48h.csv\n",
      "/blue/m.pipkin/stsuda/ATAC_Ets1KO_invitro/deseq2/KO_24h_vs_KO_6h.csv\n",
      "/blue/m.pipkin/stsuda/ATAC_Ets1KO_invitro/deseq2/KO_48h_vs_KO_2h.csv\n",
      "/blue/m.pipkin/stsuda/ATAC_Ets1KO_invitro/deseq2/WT_2h_vs_WT_6h.csv\n",
      "/blue/m.pipkin/stsuda/ATAC_Ets1KO_invitro/deseq2/WT_2h_vs_KO_0h.csv\n",
      "/blue/m.pipkin/stsuda/ATAC_Ets1KO_invitro/deseq2/WT_12h_vs_WT_6h.csv\n",
      "/blue/m.pipkin/stsuda/ATAC_Ets1KO_invitro/deseq2/KO_2h_vs_WT_48h.csv\n",
      "/blue/m.pipkin/stsuda/ATAC_Ets1KO_invitro/deseq2/KO_24h_vs_KO_0h.csv\n",
      "/blue/m.pipkin/stsuda/ATAC_Ets1KO_invitro/deseq2/KO_2h_vs_KO_12h.csv\n",
      "/blue/m.pipkin/stsuda/ATAC_Ets1KO_invitro/deseq2/WT_2h_vs_KO_12h.csv\n",
      "/blue/m.pipkin/stsuda/ATAC_Ets1KO_invitro/deseq2/WT_2h_vs_WT_12h.csv\n",
      "/blue/m.pipkin/stsuda/ATAC_Ets1KO_invitro/deseq2/WT_12h_vs_KO_12h.csv\n",
      "/blue/m.pipkin/stsuda/ATAC_Ets1KO_invitro/deseq2/KO_2h_vs_KO_0h.csv\n",
      "/blue/m.pipkin/stsuda/ATAC_Ets1KO_invitro/deseq2/KO_48h_vs_WT_24h.csv\n",
      "/blue/m.pipkin/stsuda/ATAC_Ets1KO_invitro/deseq2/WT_12h_vs_KO_2h.csv\n",
      "/blue/m.pipkin/stsuda/ATAC_Ets1KO_invitro/deseq2/KO_2h_vs_WT_24h.csv\n",
      "/blue/m.pipkin/stsuda/ATAC_Ets1KO_invitro/deseq2/KO_48h_vs_KO_0h.csv\n",
      "/blue/m.pipkin/stsuda/ATAC_Ets1KO_invitro/deseq2/WT_0h_vs_WT_48h.csv\n",
      "/blue/m.pipkin/stsuda/ATAC_Ets1KO_invitro/deseq2/KO_24h_vs_WT_0h.csv\n",
      "/blue/m.pipkin/stsuda/ATAC_Ets1KO_invitro/deseq2/WT_2h_vs_KO_6h.csv\n",
      "/blue/m.pipkin/stsuda/ATAC_Ets1KO_invitro/deseq2/KO_24h_vs_WT_2h.csv\n",
      "/blue/m.pipkin/stsuda/ATAC_Ets1KO_invitro/deseq2/WT_0h_vs_KO_24h.csv\n",
      "/blue/m.pipkin/stsuda/ATAC_Ets1KO_invitro/deseq2/WT_0h_vs_WT_12h.csv\n",
      "/blue/m.pipkin/stsuda/ATAC_Ets1KO_invitro/deseq2/KO_24h_vs_WT_12h.csv\n",
      "/blue/m.pipkin/stsuda/ATAC_Ets1KO_invitro/deseq2/WT_0h_vs_WT_2h.csv\n",
      "/blue/m.pipkin/stsuda/ATAC_Ets1KO_invitro/deseq2/KO_48h_vs_KO_24h.csv\n",
      "/blue/m.pipkin/stsuda/ATAC_Ets1KO_invitro/deseq2/WT_12h_vs_WT_0h.csv\n"
     ]
    }
   ],
   "source": [
    "deseq2_folder = '/blue/m.pipkin/stsuda/ATAC_Ets1KO_invitro/deseq2/'\n",
    "for file in os.listdir(deseq2_folder):\n",
    "    if file.endswith('.csv'):\n",
    "        deseq2_output = os.path.join(deseq2_folder, file)\n",
    "        print(deseq2_output)"
   ]
  },
  {
   "cell_type": "code",
   "execution_count": 60,
   "metadata": {},
   "outputs": [
    {
     "name": "stdout",
     "output_type": "stream",
     "text": [
      "Chr                  object\n",
      "Start                 int64\n",
      "End                   int64\n",
      "Strand               object\n",
      "Score               float64\n",
      "Chr_closest          object\n",
      "Start_closest         int64\n",
      "End_closest           int64\n",
      "Gene_closest         object\n",
      "empty                object\n",
      "Strand_closest       object\n",
      "Source_closest       object\n",
      "type                 object\n",
      "empty_2              object\n",
      "info_string          object\n",
      "distance_closest      int64\n",
      "dtype: object\n"
     ]
    }
   ],
   "source": [
    "matched_headers = ['Chr', 'Start', 'End', 'Strand', 'Score', \n",
    "'Chr_closest', 'Start_closest', 'End_closest', 'Gene_closest', 'empty', 'Strand_closest',\n",
    "'Source_closest', 'type', 'empty_2', 'info_string', 'distance_closest']\n",
    "matched = pd.read_csv(matched_genes_file, sep='\\t', header=None, names=matched_headers)\n",
    "matched = matched.astype({'Chr': str, 'Start': int, 'End': int, 'Strand': str, 'Score': float, \n",
    "'Chr_closest': str, 'Start_closest': int, 'End_closest': int, 'Gene_closest': str, 'empty': str, 'Strand_closest': str,\n",
    "'Source_closest': str, 'type': str, 'empty_2': str, 'info_string': str, 'distance_closest': int})\n",
    "print(matched.dtypes)"
   ]
  },
  {
   "cell_type": "code",
   "execution_count": 61,
   "metadata": {},
   "outputs": [
    {
     "name": "stdout",
     "output_type": "stream",
     "text": [
      "peak_id            object\n",
      "baseMean          float64\n",
      "log2FoldChange    float64\n",
      "lfcSE             float64\n",
      "pvalue            float64\n",
      "padj              float64\n",
      "Chr                object\n",
      "Start               int64\n",
      "End                 int64\n",
      "dtype: object\n"
     ]
    }
   ],
   "source": [
    "deseq_names = ['peak_id', 'baseMean', 'log2FoldChange', 'lfcSE', 'pvalue', 'padj']\n",
    "deseq = pd.read_csv(deseq2_output, names=deseq_names, header=None, skiprows=1)\n",
    "split_peak_ids = deseq['peak_id'].str.split('_', n=4, expand=True)\n",
    "deseq['Chr'] = split_peak_ids[0] + '_' + split_peak_ids[1]\n",
    "deseq['Start'] = split_peak_ids[2]\n",
    "deseq['End'] = split_peak_ids[3]\n",
    "deseq = deseq.astype({'peak_id': str, 'baseMean': float, 'log2FoldChange': float, 'lfcSE': float, 'pvalue': float, 'padj': float, 'Chr': str, 'Start': int, 'End': int})\n",
    "deseq['Start'] = deseq['Start'].astype(int)\n",
    "print(deseq.dtypes)"
   ]
  },
  {
   "cell_type": "code",
   "execution_count": 68,
   "metadata": {},
   "outputs": [
    {
     "name": "stdout",
     "output_type": "stream",
     "text": [
      "<bound method NDFrame.head of                                 peak_id   baseMean  log2FoldChange     lfcSE  \\\n",
      "0         NC_000078.7_25304543_25305234  95.159474       -0.014630  0.118318   \n",
      "1         NC_000068.8_30719267_30719699  52.582385        0.023408  0.109056   \n",
      "2         NC_000077.7_95949609_95949813  13.474557        0.002993  0.118139   \n",
      "3         NC_000075.7_79717554_79717762   5.336515       -0.007698  0.117966   \n",
      "4         NC_000085.7_14662573_14662921   3.291654       -0.022192  0.118045   \n",
      "...                                 ...        ...             ...       ...   \n",
      "604305    NC_000072.7_71386943_71387384   9.226433       -0.028683  0.116198   \n",
      "604306  NC_000068.8_175213756_175214005   8.768469       -0.010815  0.116391   \n",
      "604307    NC_000075.7_77817224_77817680  59.298726       -0.014617  0.115368   \n",
      "604308    NC_000071.7_21451651_21452221  18.242548        0.002447  0.118406   \n",
      "604309    NC_000070.7_63273965_63275257  38.819339       -0.032357  0.114206   \n",
      "\n",
      "          pvalue      padj          Chr      Start        End Strand  ...  \\\n",
      "0       0.462439  0.826837  NC_000078.7   25304543   25305234      +  ...   \n",
      "1       0.607354  0.876745  NC_000068.8   30719267   30719699      +  ...   \n",
      "2       0.886010  0.968174  NC_000077.7   95949609   95949813      +  ...   \n",
      "3       0.723733  0.916087  NC_000075.7   79717554   79717762      +  ...   \n",
      "4       0.299175  0.776589  NC_000085.7   14662573   14662921      +  ...   \n",
      "...          ...       ...          ...        ...        ...    ...  ...   \n",
      "604305  0.324704  0.784506  NC_000072.7   71386943   71387384      +  ...   \n",
      "604306  0.703745  0.909301  NC_000068.8  175213756  175214005      +  ...   \n",
      "604307  0.646158  0.890181  NC_000075.7   77817224   77817680      +  ...   \n",
      "604308  0.899673  0.972129  NC_000071.7   21451651   21452221      +  ...   \n",
      "604309  0.357147  0.793685  NC_000070.7   63273965   63275257      +  ...   \n",
      "\n",
      "        Start_closest End_closest  Gene_closest  empty Strand_closest  \\\n",
      "0            25189646    25280205       Gm36287      .              +   \n",
      "1            30713108    30718312          Asb6      .              -   \n",
      "2            95938256    95956190         Ube2z      .              -   \n",
      "3            79708460    79920133        Filip1      .              -   \n",
      "4            14425435    14575547          Tle4      .              -   \n",
      "...               ...         ...           ...    ...            ...   \n",
      "604305       71365617    71417621        Rmnd5a      .              -   \n",
      "604306      175214228   175225332        Zfp968      .              +   \n",
      "604307       77824646    77891801        Elovl5      .              +   \n",
      "604308       21380766    21518423          Gsap      .              +   \n",
      "604309       63274106    63277748          Orm3      .              +   \n",
      "\n",
      "             Source_closest  type empty_2  \\\n",
      "0                    Gnomon  gene       .   \n",
      "1                BestRefSeq  gene       .   \n",
      "2                BestRefSeq  gene       .   \n",
      "3       BestRefSeq%2CGnomon  gene       .   \n",
      "4       BestRefSeq%2CGnomon  gene       .   \n",
      "...                     ...   ...     ...   \n",
      "604305           BestRefSeq  gene       .   \n",
      "604306           BestRefSeq  gene       .   \n",
      "604307  BestRefSeq%2CGnomon  gene       .   \n",
      "604308  BestRefSeq%2CGnomon  gene       .   \n",
      "604309  BestRefSeq%2CGnomon  gene       .   \n",
      "\n",
      "                                              info_string distance_closest  \n",
      "0       gene_id \"Gm36287\"; transcript_id \"\"; db_xref \"...           -24339  \n",
      "1       gene_id \"Asb6\"; transcript_id \"\"; db_xref \"Gen...             -956  \n",
      "2       gene_id \"Ube2z\"; transcript_id \"\"; db_xref \"Ge...                0  \n",
      "3       gene_id \"Filip1\"; transcript_id \"\"; db_xref \"G...                0  \n",
      "4       gene_id \"Tle4\"; transcript_id \"\"; db_xref \"Gen...           -87027  \n",
      "...                                                   ...              ...  \n",
      "604305  gene_id \"Rmnd5a\"; transcript_id \"\"; db_xref \"G...                0  \n",
      "604306  gene_id \"Zfp968\"; transcript_id \"\"; db_xref \"G...              224  \n",
      "604307  gene_id \"Elovl5\"; transcript_id \"\"; db_xref \"G...             6967  \n",
      "604308  gene_id \"Gsap\"; transcript_id \"\"; db_xref \"Gen...                0  \n",
      "604309  gene_id \"Orm3\"; transcript_id \"\"; db_xref \"Gen...                0  \n",
      "\n",
      "[604310 rows x 22 columns]>\n"
     ]
    }
   ],
   "source": [
    "merged = pd.merge(deseq, matched, how='left', on=['Chr', 'Start', 'End'])\n",
    "merged.to_csv('~/tmp.csv')\n",
    "print(merged.head)"
   ]
  }
 ],
 "metadata": {
  "kernelspec": {
   "display_name": "Python 3.7.12 ('ATACseq_env': conda)",
   "language": "python",
   "name": "python3"
  },
  "language_info": {
   "codemirror_mode": {
    "name": "ipython",
    "version": 3
   },
   "file_extension": ".py",
   "mimetype": "text/x-python",
   "name": "python",
   "nbconvert_exporter": "python",
   "pygments_lexer": "ipython3",
   "version": "3.7.12"
  },
  "orig_nbformat": 4,
  "vscode": {
   "interpreter": {
    "hash": "62bd1b8c8788eb7d9c323a2e2686a37047f2e5dec174746a9837e7a98cbd0a94"
   }
  }
 },
 "nbformat": 4,
 "nbformat_minor": 2
}
