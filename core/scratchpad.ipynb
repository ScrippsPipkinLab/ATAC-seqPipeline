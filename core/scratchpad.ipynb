{
 "cells": [
  {
   "cell_type": "markdown",
   "metadata": {},
   "source": [
    "Lets get these stupid FASTQs sorted out "
   ]
  },
  {
   "cell_type": "code",
   "execution_count": 9,
   "metadata": {},
   "outputs": [],
   "source": [
    "import glob\n",
    "import os"
   ]
  },
  {
   "cell_type": "code",
   "execution_count": 15,
   "metadata": {},
   "outputs": [
    {
     "name": "stdout",
     "output_type": "stream",
     "text": [
      "/gpfs/home/snagaraja/ATACseqPipeline/data/bams_noDups/shCD4_1.bam\n",
      "Submitted batch job 18632816\n",
      "/gpfs/home/snagaraja/ATACseqPipeline/data/bams_noDups/shCD4_1.bam\n",
      "Submitted batch job 18632817\n",
      "/gpfs/home/snagaraja/ATACseqPipeline/data/bams_noDups/shCD4_1.bam\n",
      "Submitted batch job 18632818\n",
      "/gpfs/home/snagaraja/ATACseqPipeline/data/bams_noDups/shCD4_1.bam\n",
      "Submitted batch job 18632819\n",
      "/gpfs/home/snagaraja/ATACseqPipeline/data/bams_noDups/shCD4_1.bam\n",
      "Submitted batch job 18632820\n",
      "/gpfs/home/snagaraja/ATACseqPipeline/data/bams_noDups/shCD4_1.bam\n",
      "Submitted batch job 18632821\n",
      "/gpfs/home/snagaraja/ATACseqPipeline/data/bams_noDups/shCD4_1.bam\n",
      "Submitted batch job 18632822\n",
      "/gpfs/home/snagaraja/ATACseqPipeline/data/bams_noDups/shCD4_1.bam\n",
      "Submitted batch job 18632823\n",
      "/gpfs/home/snagaraja/ATACseqPipeline/data/bams_noDups/shCD4_1.bam\n",
      "Submitted batch job 18632824\n"
     ]
    }
   ],
   "source": [
    "for bam in glob.glob('/gpfs/home/snagaraja/ATACseqPipeline/data/bams/**/*.bam', recursive=True): \n",
    "    \n",
    "    collated = bam.replace('/bams/', '/bams_collated/')\n",
    "    fixmated = bam.replace('/bams/', '/bams_fixmated/')\n",
    "    sorted = bam.replace('/bams/', '/bams_sorted/')\n",
    "    noDups = bam.replace('/bams/', '/bams_noDups/')\n",
    "    print(final)\n",
    "    cmd = f'''#! /usr/bin/bash\n",
    "#SBATCH --cpus-per-task=16\n",
    "#SBATCH --mem=128000\n",
    "module load samtools; \n",
    "samtools collate -o {collated} {bam};\n",
    "samtools fixmate -m {collated} {fixmated};\n",
    "samtools sort -o {sorted} {fixmated};\n",
    "samtools markdup -r {sorted} {noDups};\n",
    "    '''\n",
    "    f = open(f'tmp.sh', 'w+')\n",
    "    f.write(cmd)\n",
    "    f.close()\n",
    "    os.system(f'sbatch tmp.sh')"
   ]
  },
  {
   "cell_type": "code",
   "execution_count": null,
   "metadata": {},
   "outputs": [],
   "source": []
  }
 ],
 "metadata": {
  "interpreter": {
   "hash": "120a4dfaa21da1d76983badcca089879527611048dfb8abab40f8736c2d23c2f"
  },
  "kernelspec": {
   "display_name": "Python 3.7.12 ('ATACseq_env': conda)",
   "language": "python",
   "name": "python3"
  },
  "language_info": {
   "codemirror_mode": {
    "name": "ipython",
    "version": 3
   },
   "file_extension": ".py",
   "mimetype": "text/x-python",
   "name": "python",
   "nbconvert_exporter": "python",
   "pygments_lexer": "ipython3",
   "version": "3.7.12"
  },
  "orig_nbformat": 4
 },
 "nbformat": 4,
 "nbformat_minor": 2
}
